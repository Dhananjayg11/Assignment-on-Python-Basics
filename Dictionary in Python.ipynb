{
 "cells": [
  {
   "cell_type": "code",
   "execution_count": null,
   "metadata": {},
   "outputs": [],
   "source": [
    "# Convert the given below 2 lists into a dictionary\n",
    "#keys= ['ten' ,'twenty','thirty']\n",
    "#values=[10,20,30]"
   ]
  },
  {
   "cell_type": "code",
   "execution_count": 1,
   "metadata": {},
   "outputs": [
    {
     "name": "stdout",
     "output_type": "stream",
     "text": [
      "{'ten': 10, 'twenty': 20, 'thirty': 30}\n"
     ]
    }
   ],
   "source": [
    "keys= ['ten' ,'twenty','thirty']\n",
    "values=[10,20,30]\n",
    "\n",
    "result= zip(keys, values)\n",
    "\n",
    "my_dict= dict(result)\n",
    "print(my_dict)"
   ]
  },
  {
   "cell_type": "code",
   "execution_count": null,
   "metadata": {},
   "outputs": [],
   "source": [
    "# Merging two Dictionaries\n",
    "#keys = ['Ten', 'Twenty', 'Thirty']\n",
    "#values = [10, 20, 30]\n",
    "#dict1 = {'Ten': 10, 'Twenty': 20, 'Thirty': 30}\n",
    "#dict2 = {'Thirty': 30, 'Fourty': 40, 'Fifty': 50}"
   ]
  },
  {
   "cell_type": "code",
   "execution_count": 5,
   "metadata": {},
   "outputs": [
    {
     "name": "stdout",
     "output_type": "stream",
     "text": [
      "<zip object at 0x000001812AC63D48>\n",
      "{'ten': 10, 'twenty': 20, 'thirty': 30, 'fourty': 40, 'fifty': 50}\n"
     ]
    }
   ],
   "source": [
    "dict1={'ten':10, 'twenty':20, 'thirty':30}\n",
    "dict2={'thirty':30, 'fourty':40, 'fifty':50}\n",
    "\n",
    "dict1.update(dict2)\n",
    "print(dict1)"
   ]
  },
  {
   "cell_type": "code",
   "execution_count": null,
   "metadata": {},
   "outputs": [],
   "source": [
    "#Get the key corresponding to the minimum value from the following dictionary\n",
    "\n",
    "#sampleDict = {\n",
    "# 'Physics': 82,\n",
    "# 'Math': 65,\n",
    "# 'history': 75\n",
    "#}"
   ]
  },
  {
   "cell_type": "code",
   "execution_count": 8,
   "metadata": {},
   "outputs": [
    {
     "data": {
      "text/plain": [
       "'physics'"
      ]
     },
     "execution_count": 8,
     "metadata": {},
     "output_type": "execute_result"
    }
   ],
   "source": [
    "sampledict={'physics':82, 'math':65, 'history':75}\n",
    "\n",
    "max(sampledict.keys())"
   ]
  },
  {
   "cell_type": "code",
   "execution_count": null,
   "metadata": {},
   "outputs": [],
   "source": [
    "#Given a Python dictionary, Change Brad’s salary to 8500\n",
    "#sampleDict = {\n",
    "# 'emp1': {'name': 'Jhon', 'salary': 7500},\n",
    "# 'emp2': {'name': 'Emma', 'salary': 8000},\n",
    "# 'emp3': {'name': 'Brad', 'salary': 6500}\n",
    "#}"
   ]
  },
  {
   "cell_type": "code",
   "execution_count": 19,
   "metadata": {},
   "outputs": [
    {
     "name": "stdout",
     "output_type": "stream",
     "text": [
      "{'name': 'Brad', 'salary': 8500}\n"
     ]
    }
   ],
   "source": [
    "mydict={\n",
    "    'emp1':{'name':'John','salary':7500},\n",
    "    'emp2':{'name':'Emma','salary':8000} ,\n",
    "    'emp3':{'name':'Brad','salary':6500}\n",
    "}\n",
    "\n",
    "mydict['emp3']['salary']=8500\n",
    "print(mydict['emp3'])"
   ]
  },
  {
   "cell_type": "code",
   "execution_count": null,
   "metadata": {},
   "outputs": [],
   "source": [
    "# Taking input from user print a simple dictionary"
   ]
  },
  {
   "cell_type": "code",
   "execution_count": 22,
   "metadata": {},
   "outputs": [
    {
     "name": "stdout",
     "output_type": "stream",
     "text": [
      "enter name of students dfg \n",
      "enter marks of students 52\n",
      "enter name of students tgh\n",
      "enter marks of students 65\n",
      "enter name of students ghfj\n",
      "enter marks of students 63\n",
      "{'dfg ': '52', 'tgh': '65', 'ghfj': '63'}\n"
     ]
    }
   ],
   "source": [
    "d={}\n",
    "n=3\n",
    "\n",
    "for i in range(n):\n",
    "    n=input(\"enter name of students \")\n",
    "    m=input(\"enter marks of students \")\n",
    "    d.update({n:m})\n",
    "    \n",
    "print(d)"
   ]
  },
  {
   "cell_type": "code",
   "execution_count": null,
   "metadata": {},
   "outputs": [],
   "source": [
    "#Create a list having students names and grade, then convert them to dictionary and print\n",
    "#the maximum grade and the student's name scoring maximum grade."
   ]
  },
  {
   "cell_type": "code",
   "execution_count": 26,
   "metadata": {},
   "outputs": [
    {
     "name": "stdout",
     "output_type": "stream",
     "text": [
      "{'aafreen': 78, 'kajal': 56, 'sanjay': 89, 'ajay': 67}\n",
      "name of the student with max grade is:  sanjay  with grades:  89\n"
     ]
    }
   ],
   "source": [
    "name=[\"afreen\", \"kajal\",\"sanjay\",\"ajay\"]\n",
    "marks=[78,56,89,67]\n",
    "\n",
    "result= zip(name, marks)\n",
    "\n",
    "stud= dict(result)\n",
    "print(stud)\n",
    "\n",
    "m=max(stud,key=stud.get)\n",
    "print(\"name of the student with max grade is: \", m,\" with grades: \",max(stud.values()))"
   ]
  },
  {
   "cell_type": "code",
   "execution_count": null,
   "metadata": {},
   "outputs": [],
   "source": [
    "#Create a dictionary and check if a particular values exists or not."
   ]
  },
  {
   "cell_type": "code",
   "execution_count": 29,
   "metadata": {},
   "outputs": [
    {
     "name": "stdout",
     "output_type": "stream",
     "text": [
      "enter the value to be check in dictionay 20\n"
     ]
    },
    {
     "data": {
      "text/plain": [
       "True"
      ]
     },
     "execution_count": 29,
     "metadata": {},
     "output_type": "execute_result"
    }
   ],
   "source": [
    "myd={'ten': 10, 'twenty': 20, 'thirty': 30, 'fourty': 40, 'fifty': 50}\n",
    "\n",
    "x=int(input(\"enter the value to be check in dictionay \"))\n",
    "x in myd.values()"
   ]
  },
  {
   "cell_type": "code",
   "execution_count": null,
   "metadata": {},
   "outputs": [],
   "source": [
    "#Create a dictionary and using pop() delete a particular key:value pair"
   ]
  },
  {
   "cell_type": "code",
   "execution_count": 30,
   "metadata": {},
   "outputs": [
    {
     "name": "stdout",
     "output_type": "stream",
     "text": [
      "dictionary befor performing pop operation {'ten': 10, 'twenty': 20, 'thirty': 30, 'fourty': 40, 'fifty': 50}\n",
      "dictionryy after pop operation {'ten': 10, 'twenty': 20, 'thirty': 30, 'fifty': 50}\n"
     ]
    }
   ],
   "source": [
    "dict1={'ten': 10, 'twenty': 20, 'thirty': 30, 'fourty': 40, 'fifty': 50}\n",
    "\n",
    "print(\"dictionary befor performing pop operation\", dict1)\n",
    "dict1.pop('fourty')\n",
    "\n",
    "print(\"dictionryy after pop operation\", dict1)"
   ]
  },
  {
   "cell_type": "code",
   "execution_count": null,
   "metadata": {},
   "outputs": [],
   "source": [
    "#Using dictionary, print the squares of numbers till 6."
   ]
  },
  {
   "cell_type": "code",
   "execution_count": 32,
   "metadata": {},
   "outputs": [
    {
     "name": "stdout",
     "output_type": "stream",
     "text": [
      "{1: 1, 2: 4, 3: 9, 4: 16, 5: 25, 6: 36}\n"
     ]
    }
   ],
   "source": [
    "d={}\n",
    "\n",
    "for x in range(1,7):\n",
    "    d[x]=x**2\n",
    "\n",
    "print(d)"
   ]
  },
  {
   "cell_type": "code",
   "execution_count": null,
   "metadata": {},
   "outputs": [],
   "source": [
    "#Create a dictionary and perform sorting of key:value pairs."
   ]
  },
  {
   "cell_type": "code",
   "execution_count": 34,
   "metadata": {},
   "outputs": [
    {
     "name": "stdout",
     "output_type": "stream",
     "text": [
      "key befor sorting dict_keys(['afreen', 'kajal', 'sanjay', 'ajay'])\n",
      "after sorting\n",
      "['afreen', 'ajay', 'kajal', 'sanjay']\n"
     ]
    }
   ],
   "source": [
    "d={'afreen': 78, 'kajal': 56, 'sanjay': 89, 'ajay': 67}\n",
    "\n",
    "print(\"key befor sorting\",d.keys())\n",
    "print(\"after sorting\")\n",
    "print(sorted(d))"
   ]
  },
  {
   "cell_type": "code",
   "execution_count": null,
   "metadata": {},
   "outputs": [],
   "source": []
  }
 ],
 "metadata": {
  "kernelspec": {
   "display_name": "Python 3",
   "language": "python",
   "name": "python3"
  },
  "language_info": {
   "codemirror_mode": {
    "name": "ipython",
    "version": 3
   },
   "file_extension": ".py",
   "mimetype": "text/x-python",
   "name": "python",
   "nbconvert_exporter": "python",
   "pygments_lexer": "ipython3",
   "version": "3.8.5"
  }
 },
 "nbformat": 4,
 "nbformat_minor": 4
}
