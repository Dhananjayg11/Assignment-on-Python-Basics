{
 "cells": [
  {
   "cell_type": "code",
   "execution_count": null,
   "metadata": {},
   "outputs": [],
   "source": [
    "#Question 1\n",
    "#Write a PYTHON program to evaluate the student performance\n",
    "#If % is >=90 then Excellent performance\n",
    "#If % is >=80 then Very Good performance\n",
    "#If % is >=70 then Good performance\n",
    "#If % is >=60 then average performance\n",
    "#else Poor performance. "
   ]
  },
  {
   "cell_type": "code",
   "execution_count": 1,
   "metadata": {},
   "outputs": [
    {
     "name": "stdout",
     "output_type": "stream",
     "text": [
      "Enter the precentage:75\n",
      "Good performance\n"
     ]
    }
   ],
   "source": [
    "p = int(input(\"Enter the precentage:\"))\n",
    "\n",
    "if(p>=90):\n",
    "    print(\"Excellent performance\")\n",
    "elif(p>=80):\n",
    "    print(\"Very good performance\")\n",
    "elif(p>=70):\n",
    "    print(\"Good performance\")\n",
    "elif(p>=60):\n",
    "    print(\"Average performance\")\n",
    "else:aa\n",
    "    print(\"Poor performance\")"
   ]
  },
  {
   "cell_type": "code",
   "execution_count": 2,
   "metadata": {},
   "outputs": [],
   "source": [
    "#Question 2\n",
    "#Write a PYTHON program to check a year for leap year."
   ]
  },
  {
   "cell_type": "code",
   "execution_count": 4,
   "metadata": {},
   "outputs": [
    {
     "name": "stdout",
     "output_type": "stream",
     "text": [
      "Enter the year to be checked:2020\n",
      "It's a Leap Year\n"
     ]
    }
   ],
   "source": [
    "Y = int(input(\"Enter the year to be checked:\"))\n",
    "\n",
    "if(Y % 4 == 0):\n",
    "    print(\"It's a Leap Year\")\n",
    "else:\n",
    "    print(\"Not a Leap Year\")"
   ]
  },
  {
   "cell_type": "code",
   "execution_count": 5,
   "metadata": {},
   "outputs": [],
   "source": [
    "#Question 3\n",
    "#A company insures its drivers in the following cases:\n",
    "#- If the driver is married.\n",
    "#- If the driver is unmarried, male and above 30 years of age.\n",
    "#- If the driver is unmarried, female and above 25 years of age. "
   ]
  },
  {
   "cell_type": "code",
   "execution_count": 5,
   "metadata": {},
   "outputs": [
    {
     "name": "stdout",
     "output_type": "stream",
     "text": [
      "Married? True or False?:False\n",
      "Gender? M or F?:M\n",
      "Age?:35\n",
      "Qualified!\n"
     ]
    }
   ],
   "source": [
    "status = input(\"Married? True or False?:\")\n",
    "gender = input(\"Gender? M or F?:\")\n",
    "age = int(input(\"Age?:\"))\n",
    "\n",
    "if(status == \"True\"):\n",
    "    print(\"Qualified!\")\n",
    "elif(status == \"False\" and gender == \"M\" and age>30):\n",
    "    print(\"Qualified!\")\n",
    "elif(status == \"False\" and gender == \"F\" and age>25):\n",
    "    print(\"Qualified!\")\n",
    "else:\n",
    "    print(\"Not Qualified!\")"
   ]
  },
  {
   "cell_type": "code",
   "execution_count": 6,
   "metadata": {},
   "outputs": [],
   "source": [
    "#Question 4\n",
    "#A company decided to give bonus of 5% to employee if his/her year of service is more than 5 years. Ask\n",
    "#user for their salary and year of service and print the net bonus amount."
   ]
  },
  {
   "cell_type": "code",
   "execution_count": 9,
   "metadata": {},
   "outputs": [
    {
     "name": "stdout",
     "output_type": "stream",
     "text": [
      "Enter the Salary:100000\n",
      "Enter your year of service in this company:8\n",
      "Your Net Bonus Amount is: 105000.0\n"
     ]
    }
   ],
   "source": [
    "sal = int(input(\"Enter the Salary:\"))\n",
    "yos = int(input(\"Enter your year of service in this company:\"))\n",
    "\n",
    "if(yos > 5):\n",
    "    NetBonus = sal + ((5 / 100) * sal)\n",
    "    print(\"Your Net Bonus Amount is:\", NetBonus)\n",
    "else:\n",
    "    print(\"No Bonus! Your salary is\", sal)"
   ]
  },
  {
   "cell_type": "code",
   "execution_count": 10,
   "metadata": {},
   "outputs": [],
   "source": [
    "#Question 5\n",
    "#Program that accepts a string and calculate the number of digits and letters."
   ]
  },
  {
   "cell_type": "code",
   "execution_count": 12,
   "metadata": {},
   "outputs": [
    {
     "name": "stdout",
     "output_type": "stream",
     "text": [
      "Enter the String:abc123\n",
      "No. of letters are 3\n",
      "No. of digits are 3\n"
     ]
    }
   ],
   "source": [
    "String = input(\"Enter the String:\")\n",
    "a=0\n",
    "b=0\n",
    "\n",
    "for i in String:\n",
    "    if(i.isdigit()):\n",
    "        a+=1\n",
    "    else:\n",
    "        b+=1\n",
    "\n",
    "print(\"No. of letters are\",b)\n",
    "print(\"No. of digits are\",a)"
   ]
  },
  {
   "cell_type": "code",
   "execution_count": null,
   "metadata": {},
   "outputs": [],
   "source": [
    "#Question 6\n",
    "# Program to check a triangle is equilateral, isosceles or scalene.\n",
    "#Note :\n",
    "#An equilateral triangle is a triangle in which all three sides are equal.\n",
    "#A scalene triangle is a triangle that has three unequal sides"
   ]
  },
  {
   "cell_type": "code",
   "execution_count": 16,
   "metadata": {},
   "outputs": [
    {
     "name": "stdout",
     "output_type": "stream",
     "text": [
      "Enter 1st side:4\n",
      "Enter 2nd side:5\n",
      "Enter 3rd side:6\n",
      "The Traingle is Scalene\n"
     ]
    }
   ],
   "source": [
    "a = int(input(\"Enter 1st side:\"))\n",
    "b = int(input(\"Enter 2nd side:\"))\n",
    "c = int(input(\"Enter 3rd side:\"))\n",
    "\n",
    "if(a == b == c):\n",
    "    print(\"The Triangle is Equilateral\")\n",
    "elif(a == b or b == c or c == a):\n",
    "    print(\"The Traingle is Isosceles\")\n",
    "else:\n",
    "    print(\"The Traingle is Scalene\")"
   ]
  },
  {
   "cell_type": "code",
   "execution_count": null,
   "metadata": {},
   "outputs": [],
   "source": [
    "#Question 7\n",
    "# Program to calculate the electricity bill (accept number of unit from user) according to the following\n",
    "#criteria :\n",
    "#     Unit                  Price\n",
    "#First 100 units          no charge\n",
    "#Next 100 units           Rs 5 per unit\n",
    "#After 200 units          Rs 10 per unit"
   ]
  },
  {
   "cell_type": "code",
   "execution_count": 20,
   "metadata": {},
   "outputs": [
    {
     "name": "stdout",
     "output_type": "stream",
     "text": [
      "Enter the number of units:180\n",
      "Your Bill is: 900\n"
     ]
    }
   ],
   "source": [
    "N = int(input(\"Enter the number of units:\"))\n",
    "\n",
    "if(N <= 100):\n",
    "    print(\"You have to pay nothing\")\n",
    "elif(N > 100 and N <= 200):\n",
    "    bill = 5 * N\n",
    "    print(\"Your Bill is:\",bill)\n",
    "else:\n",
    "    bill = 10 * N\n",
    "    print(\"Your bill is:\",bill)"
   ]
  },
  {
   "cell_type": "code",
   "execution_count": 21,
   "metadata": {},
   "outputs": [],
   "source": [
    "#Question 8\n",
    "#Program to accept the cost price of a bike and display the road tax to be paid according to the following\n",
    "#criteria :\n",
    "#   Cost price (in Rs)            Tax\n",
    "#  > 100000                       15 %\n",
    "#  > 50000 and <= 100000          10%\n",
    "#  <= 50000                       5%"
   ]
  },
  {
   "cell_type": "code",
   "execution_count": 23,
   "metadata": {},
   "outputs": [
    {
     "name": "stdout",
     "output_type": "stream",
     "text": [
      "Enter the cost price of bike:80000\n",
      "The Roadtax is: 8000.0\n"
     ]
    }
   ],
   "source": [
    "Cp = int(input(\"Enter the cost price of bike:\"))\n",
    "\n",
    "if(Cp > 100000):\n",
    "    RoadTax = (15 / 100) * Cp\n",
    "    print(\"The Roadtax is:\",RoadTax)\n",
    "elif(Cp > 50000 and Cp <= 100000):\n",
    "    RoadTax = (10 / 100) * Cp\n",
    "    print(\"The Roadtax is:\",RoadTax)\n",
    "elif(Cp <= 50000):\n",
    "    RoadTax = (5 / 100) * Cp\n",
    "    print(\"The Roadtax is:\",RoadTax)\n",
    "else:\n",
    "    print(\"No Road tax\")  "
   ]
  }
 ],
 "metadata": {
  "kernelspec": {
   "display_name": "Python 3",
   "language": "python",
   "name": "python3"
  },
  "language_info": {
   "codemirror_mode": {
    "name": "ipython",
    "version": 3
   },
   "file_extension": ".py",
   "mimetype": "text/x-python",
   "name": "python",
   "nbconvert_exporter": "python",
   "pygments_lexer": "ipython3",
   "version": "3.8.5"
  }
 },
 "nbformat": 4,
 "nbformat_minor": 4
}
