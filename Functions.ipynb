{
 "cells": [
  {
   "cell_type": "code",
   "execution_count": null,
   "metadata": {},
   "outputs": [],
   "source": [
    "#Question 1\n",
    "#Write a function that takes two age values as integers, adds\n",
    "#them up and returns the result as an integer."
   ]
  },
  {
   "cell_type": "code",
   "execution_count": 1,
   "metadata": {},
   "outputs": [
    {
     "name": "stdout",
     "output_type": "stream",
     "text": [
      "Enter 1st age:1\n",
      "Enter 2nd age:2\n",
      "3\n"
     ]
    }
   ],
   "source": [
    "a = int(input(\"Enter 1st age:\"))\n",
    "b = int(input(\"Enter 2nd age:\"))\n",
    "\n",
    "def age(a,b):\n",
    "    age = a+b;\n",
    "    return age\n",
    "\n",
    "A = age(a,b)\n",
    "print(A)"
   ]
  },
  {
   "cell_type": "code",
   "execution_count": 2,
   "metadata": {},
   "outputs": [],
   "source": [
    "#Question 2\n",
    "#Write a function that converts feet to inches. It should accept\n",
    "#a number of feet as an argument and return the\n",
    "#equivalent number of inches."
   ]
  },
  {
   "cell_type": "code",
   "execution_count": 4,
   "metadata": {},
   "outputs": [
    {
     "name": "stdout",
     "output_type": "stream",
     "text": [
      "Enter the Feet value:10\n",
      "120\n"
     ]
    }
   ],
   "source": [
    "f = int(input(\"Enter the Feet value:\"))\n",
    "\n",
    "def convert(f):\n",
    "    inch = (12) * f\n",
    "    return inch\n",
    "\n",
    "I = convert(f)\n",
    "print(I)"
   ]
  },
  {
   "cell_type": "code",
   "execution_count": null,
   "metadata": {},
   "outputs": [],
   "source": [
    "#Question 3\n",
    "#Write a function named “maximum” that accepts two\n",
    "#integer values and returns the one that the greater of the two\n",
    "#to the calling program."
   ]
  },
  {
   "cell_type": "code",
   "execution_count": 5,
   "metadata": {},
   "outputs": [
    {
     "name": "stdout",
     "output_type": "stream",
     "text": [
      "Enter the 1st integer:4\n",
      "Enter the 2st integer:7\n",
      "7\n"
     ]
    }
   ],
   "source": [
    "def maximum(a,b):\n",
    "    if(a<b):\n",
    "        return b\n",
    "    else:\n",
    "        return a\n",
    "    \n",
    "a = int(input(\"Enter the 1st integer:\"))\n",
    "b = int(input(\"Enter the 2st integer:\"))\n",
    "var = maximum(a,b)\n",
    "print(var)"
   ]
  },
  {
   "cell_type": "code",
   "execution_count": null,
   "metadata": {},
   "outputs": [],
   "source": [
    "#Question 4\n",
    "# Write two functions to find:\n",
    "# Area of circle\n",
    "# Perimeter of circle"
   ]
  },
  {
   "cell_type": "code",
   "execution_count": 9,
   "metadata": {},
   "outputs": [
    {
     "name": "stdout",
     "output_type": "stream",
     "text": [
      "Enter the radius of a circle:10\n",
      "Area is: 314.1592653589793\n",
      "Perimeter is: 62.83185307179586\n"
     ]
    }
   ],
   "source": [
    "import math\n",
    "\n",
    "def area(r):\n",
    "    A = math.pi * (r*r)\n",
    "    return A\n",
    "def perimeter(r):\n",
    "    P = 2 * math.pi * r\n",
    "    return P\n",
    "\n",
    "radius = int(input(\"Enter the radius of a circle:\"))\n",
    "\n",
    "Area = area(radius)\n",
    "print(\"Area is:\",Area)\n",
    "\n",
    "Perimeter = perimeter(radius)\n",
    "print(\"Perimeter is:\",Perimeter)"
   ]
  },
  {
   "cell_type": "code",
   "execution_count": null,
   "metadata": {},
   "outputs": [],
   "source": [
    "#Question 5 \n",
    "#Write a function that accepts a restaurant check and a tip %\n",
    "#Print out the tip that should be left on the table as well as the total bill.\n",
    "#If the tip is less than 15% you should tell the user that they\n",
    "#might want to leave a little more on the table."
   ]
  },
  {
   "cell_type": "code",
   "execution_count": 14,
   "metadata": {},
   "outputs": [
    {
     "name": "stdout",
     "output_type": "stream",
     "text": [
      "Enter the Restaurant check:2000\n",
      "Enter the tip %:15\n",
      "The Total bill is: 2300.0\n",
      "Tip is: 300.0\n"
     ]
    }
   ],
   "source": [
    "restch = int(input(\"Enter the Restaurant check:\"))\n",
    "tip = int(input(\"Enter the tip %:\"))\n",
    "\n",
    "def func(restch,tip):\n",
    "    if (tip  < 15):\n",
    "        print(\"YOU MIGHT WANT TO LEAVE A LITTLE  MORE ON THE TABLE\")\n",
    "    else:\n",
    "        t = (tip * restch)/100\n",
    "        print(\"The Total bill is:\",(restch + t))\n",
    "        print(\"Tip is:\",t)\n",
    "\n",
    "func(restch,tip)"
   ]
  },
  {
   "cell_type": "code",
   "execution_count": null,
   "metadata": {},
   "outputs": [],
   "source": [
    "#Question 6\n",
    "#Prompt the use for an item price (using a function)\n",
    "#Apply a 20% discount to the price (using a function)\n",
    "#Print the starting price and the discounted price."
   ]
  },
  {
   "cell_type": "code",
   "execution_count": 16,
   "metadata": {},
   "outputs": [
    {
     "name": "stdout",
     "output_type": "stream",
     "text": [
      "Enter the Start price:1000\n",
      "Starting price is: 1000\n",
      "Discounted price is 800.0\n"
     ]
    }
   ],
   "source": [
    "def start(p):\n",
    "    print(\"Starting price is:\",p)\n",
    "    return p\n",
    "\n",
    "pr = int(input(\"Enter the Start price:\"))\n",
    "\n",
    "def disc():\n",
    "    P = start(pr)\n",
    "    d = (20 * P)/100\n",
    "    dp = P - d\n",
    "    print(\"Discounted price is\", dp)\n",
    "\n",
    "disc()"
   ]
  }
 ],
 "metadata": {
  "kernelspec": {
   "display_name": "Python 3",
   "language": "python",
   "name": "python3"
  },
  "language_info": {
   "codemirror_mode": {
    "name": "ipython",
    "version": 3
   },
   "file_extension": ".py",
   "mimetype": "text/x-python",
   "name": "python",
   "nbconvert_exporter": "python",
   "pygments_lexer": "ipython3",
   "version": "3.8.5"
  }
 },
 "nbformat": 4,
 "nbformat_minor": 4
}
