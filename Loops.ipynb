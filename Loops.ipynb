{
 "cells": [
  {
   "cell_type": "code",
   "execution_count": null,
   "metadata": {},
   "outputs": [],
   "source": [
    "#While loops"
   ]
  },
  {
   "cell_type": "code",
   "execution_count": 1,
   "metadata": {},
   "outputs": [],
   "source": [
    "#Question 1\n",
    "#Write a PYTHON program to print the natural numbers up to n."
   ]
  },
  {
   "cell_type": "code",
   "execution_count": 2,
   "metadata": {},
   "outputs": [
    {
     "name": "stdout",
     "output_type": "stream",
     "text": [
      "Enter the number:5\n",
      "1\n",
      "2\n",
      "3\n",
      "4\n",
      "5\n"
     ]
    }
   ],
   "source": [
    "n = int(input(\"Enter the number:\"))\n",
    "i=1\n",
    "while i<=n:\n",
    "    print(i)\n",
    "    i+=1"
   ]
  },
  {
   "cell_type": "code",
   "execution_count": null,
   "metadata": {},
   "outputs": [],
   "source": [
    "#Question 2\n",
    "#Write a PYTHON program to print even numbers up to n."
   ]
  },
  {
   "cell_type": "code",
   "execution_count": 3,
   "metadata": {},
   "outputs": [
    {
     "name": "stdout",
     "output_type": "stream",
     "text": [
      "Enter the number:5\n",
      "2\n",
      "4\n"
     ]
    }
   ],
   "source": [
    "n = int(input(\"Enter the number:\"))\n",
    "i=1\n",
    "while i<=n:\n",
    "    if i%2==0:\n",
    "        print(i)\n",
    "    i+=1"
   ]
  },
  {
   "cell_type": "code",
   "execution_count": null,
   "metadata": {},
   "outputs": [],
   "source": [
    "#Question 3\n",
    "#Write a PYTHON program to print sum of even numbers up to n."
   ]
  },
  {
   "cell_type": "code",
   "execution_count": 7,
   "metadata": {},
   "outputs": [
    {
     "name": "stdout",
     "output_type": "stream",
     "text": [
      "Enter the number:5\n",
      "6\n"
     ]
    }
   ],
   "source": [
    "n = int(input(\"Enter the number:\"))\n",
    "i=1\n",
    "sum=0\n",
    "while i<=n:\n",
    "    if i%2==0:\n",
    "        sum+=i\n",
    "    i+=1\n",
    "print(sum)"
   ]
  },
  {
   "cell_type": "code",
   "execution_count": null,
   "metadata": {},
   "outputs": [],
   "source": [
    "#Question 4\n",
    "#Write a PYTHON program to print natural numbers up to n in reverse order."
   ]
  },
  {
   "cell_type": "code",
   "execution_count": 8,
   "metadata": {},
   "outputs": [
    {
     "name": "stdout",
     "output_type": "stream",
     "text": [
      "Enter the number:5\n",
      "5\n",
      "4\n",
      "3\n",
      "2\n",
      "1\n"
     ]
    }
   ],
   "source": [
    "n = int(input(\"Enter the number:\"))\n",
    "i=n\n",
    "while i>=1:\n",
    "    print(i)\n",
    "    i-=1"
   ]
  },
  {
   "cell_type": "code",
   "execution_count": null,
   "metadata": {},
   "outputs": [],
   "source": [
    "#Question 5\n",
    "#Write a PYTHON program find a factorial of given number."
   ]
  },
  {
   "cell_type": "code",
   "execution_count": 10,
   "metadata": {},
   "outputs": [
    {
     "name": "stdout",
     "output_type": "stream",
     "text": [
      "Enter the number:4\n",
      "24\n"
     ]
    }
   ],
   "source": [
    "n = int(input(\"Enter the number:\"))\n",
    "i=1\n",
    "f=1\n",
    "while i<=n:\n",
    "    f*=i\n",
    "    i+=1\n",
    "print(f)"
   ]
  },
  {
   "cell_type": "code",
   "execution_count": null,
   "metadata": {},
   "outputs": [],
   "source": [
    "#For loops"
   ]
  },
  {
   "cell_type": "code",
   "execution_count": 11,
   "metadata": {},
   "outputs": [],
   "source": [
    "#Question 6\n",
    "#Write a PYTHON program to check the entered number is prime or not."
   ]
  },
  {
   "cell_type": "code",
   "execution_count": 10,
   "metadata": {},
   "outputs": [
    {
     "name": "stdout",
     "output_type": "stream",
     "text": [
      "Enter the number:67\n",
      "Prime\n"
     ]
    }
   ],
   "source": [
    "n = int(input(\"Enter the number:\"))\n",
    "if n>1:\n",
    "    for i in range(2,n):\n",
    "        if n%i==0:\n",
    "            print(\"Not Prime\") \n",
    "            break\n",
    "    else:\n",
    "        print(\"Prime\")\n",
    "else:\n",
    "    print(\"Not prime\")"
   ]
  },
  {
   "cell_type": "code",
   "execution_count": 16,
   "metadata": {},
   "outputs": [],
   "source": [
    "#Question 7\n",
    "#Write a PYTHON program to find the sum of digits of given number."
   ]
  },
  {
   "cell_type": "code",
   "execution_count": 19,
   "metadata": {},
   "outputs": [
    {
     "name": "stdout",
     "output_type": "stream",
     "text": [
      "Enter the no.:54\n",
      "9\n"
     ]
    }
   ],
   "source": [
    "n =input(\"Enter the no.:\")\n",
    "sum=0\n",
    "for i in n:\n",
    "    sum+=int(i)\n",
    "print(sum)"
   ]
  },
  {
   "cell_type": "code",
   "execution_count": 20,
   "metadata": {},
   "outputs": [],
   "source": [
    "#Question 8\n",
    "#Write a PYTHON program that prints 1 2 4 8 16 32 … n^2."
   ]
  },
  {
   "cell_type": "code",
   "execution_count": 21,
   "metadata": {},
   "outputs": [
    {
     "name": "stdout",
     "output_type": "stream",
     "text": [
      "Enter the no.:4\n",
      "1\n",
      "2\n",
      "4\n",
      "8\n"
     ]
    }
   ],
   "source": [
    "n = int(input(\"Enter the no.:\"))\n",
    "a=1\n",
    "for i in range(n):\n",
    "    print(a)\n",
    "    a*=2"
   ]
  },
  {
   "cell_type": "code",
   "execution_count": 22,
   "metadata": {},
   "outputs": [],
   "source": [
    "#Question 9\n",
    "#Write a PYTHON program to produce following design\n",
    "#A\n",
    "#A B\n",
    "#A B C\n",
    "#A B C D\n",
    "#A B C D E \n",
    "#If user enters n value as 5"
   ]
  },
  {
   "cell_type": "code",
   "execution_count": 28,
   "metadata": {},
   "outputs": [
    {
     "name": "stdout",
     "output_type": "stream",
     "text": [
      "Enter the no.:5\n",
      "A \n",
      "A B \n",
      "A B C \n",
      "A B C D \n",
      "A B C D E \n"
     ]
    }
   ],
   "source": [
    "n = int(input(\"Enter the no.:\"))\n",
    "\n",
    "for i in range(0,n):\n",
    "    a=65\n",
    "    for j in range(0,i+1):\n",
    "        ch=chr(a)\n",
    "        print(ch,end=\" \")\n",
    "        a+=1\n",
    "    print(\"\\r\")"
   ]
  },
  {
   "cell_type": "code",
   "execution_count": null,
   "metadata": {},
   "outputs": [],
   "source": [
    "#Question 10\n",
    "#Write a PYTHON program to produce following design\n",
    "#1\n",
    "#1 2\n",
    "#1 2 3\n",
    "#1 2 3 4\n",
    "#1 2 3 4 5\n",
    "#If user enters n value as 5"
   ]
  },
  {
   "cell_type": "code",
   "execution_count": 32,
   "metadata": {},
   "outputs": [
    {
     "name": "stdout",
     "output_type": "stream",
     "text": [
      "Enter the number:5\n",
      "1 \n",
      "1 2 \n",
      "1 2 3 \n",
      "1 2 3 4 \n",
      "1 2 3 4 5 \n"
     ]
    }
   ],
   "source": [
    "n = int(input(\"Enter the number:\"))\n",
    "\n",
    "for i in range(1,n+1):\n",
    "    for j in range(1,i+1):\n",
    "        print(j,end=\" \")\n",
    "    print(\"\\r\")"
   ]
  }
 ],
 "metadata": {
  "kernelspec": {
   "display_name": "Python 3",
   "language": "python",
   "name": "python3"
  },
  "language_info": {
   "codemirror_mode": {
    "name": "ipython",
    "version": 3
   },
   "file_extension": ".py",
   "mimetype": "text/x-python",
   "name": "python",
   "nbconvert_exporter": "python",
   "pygments_lexer": "ipython3",
   "version": "3.8.5"
  }
 },
 "nbformat": 4,
 "nbformat_minor": 4
}
