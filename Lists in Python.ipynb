{
 "cells": [
  {
   "cell_type": "code",
   "execution_count": null,
   "metadata": {},
   "outputs": [],
   "source": [
    "#Question 1\n",
    "#From the created list, remove the last element."
   ]
  },
  {
   "cell_type": "code",
   "execution_count": 6,
   "metadata": {},
   "outputs": [
    {
     "name": "stdout",
     "output_type": "stream",
     "text": [
      "[5, 6, 7, 8, 9]\n"
     ]
    }
   ],
   "source": [
    "list = [5,6,7,8,9,10]\n",
    "list.pop()\n",
    "print(list)"
   ]
  },
  {
   "cell_type": "code",
   "execution_count": null,
   "metadata": {},
   "outputs": [],
   "source": [
    "#Question 2\n",
    "#Counting the length of string using for loop (don't use len())."
   ]
  },
  {
   "cell_type": "code",
   "execution_count": 7,
   "metadata": {},
   "outputs": [
    {
     "name": "stdout",
     "output_type": "stream",
     "text": [
      "Enter the String:dhananjay\n",
      "9\n"
     ]
    }
   ],
   "source": [
    "S = input(\"Enter the String:\")\n",
    "sum=0\n",
    "for i in S:\n",
    "    sum=sum+1\n",
    "print(sum)"
   ]
  },
  {
   "cell_type": "code",
   "execution_count": null,
   "metadata": {},
   "outputs": [],
   "source": [
    "#Question 3\n",
    "#Count the occurrence of a particular element in a list."
   ]
  },
  {
   "cell_type": "code",
   "execution_count": 8,
   "metadata": {},
   "outputs": [
    {
     "name": "stdout",
     "output_type": "stream",
     "text": [
      "Enter the no. of elements of list:4\n",
      "Enter the element to add in a list:2\n",
      "Enter the element to add in a list:2\n",
      "Enter the element to add in a list:3\n",
      "Enter the element to add in a list:4\n",
      "your list is ['2', '2', '3', '4']\n",
      "Enter the element to check:2\n",
      "2 is 2 times in a list\n"
     ]
    }
   ],
   "source": [
    "l=[]\n",
    "n = int(input(\"Enter the no. of elements of list:\"))\n",
    "for i in range(n):\n",
    "    n = input(\"Enter the element to add in a list:\")\n",
    "    l.append(n)\n",
    "print(\"your list is\",l)\n",
    "\n",
    "sum=0\n",
    "\n",
    "check = input(\"Enter the element to check:\")\n",
    "\n",
    "for x in l:\n",
    "    if(x == check):\n",
    "        sum=sum+1\n",
    "        \n",
    "print(check,\"is\",sum,\"times in a list\")"
   ]
  },
  {
   "cell_type": "code",
   "execution_count": null,
   "metadata": {},
   "outputs": [],
   "source": [
    "#Question 4\n",
    "# Create a zip of lists."
   ]
  },
  {
   "cell_type": "code",
   "execution_count": 11,
   "metadata": {},
   "outputs": [
    {
     "name": "stdout",
     "output_type": "stream",
     "text": [
      "Enter the number of entries need:4\n",
      "Enter name:dhanajay\n",
      "Enter job:xyz\n",
      "Enter Age:20\n",
      "Enter name:geuif\n",
      "Enter job:uwd\n",
      "Enter Age:5\n",
      "Enter name:ghuifw\n",
      "Enter job:gi\n",
      "Enter Age:5\n",
      "Enter name:ugdiw\n",
      "Enter job:idbwi\n",
      "Enter Age:7\n",
      "Name list is ['dhanajay', 'geuif', 'ghuifw', 'ugdiw']\n",
      "Job list is ['xyz', 'uwd', 'gi', 'idbwi']\n",
      "Age list is [20, 5, 5, 7]\n",
      "Zipped list is {('dhanajay', 'xyz', 20), ('ugdiw', 'idbwi', 7), ('ghuifw', 'gi', 5), ('geuif', 'uwd', 5)}\n"
     ]
    }
   ],
   "source": [
    "Name=[]\n",
    "Job=[]\n",
    "Age=[]\n",
    "a = int(input(\"Enter the number of entries need:\"))\n",
    "for i in range(a):\n",
    "    n = input(\"Enter name:\")\n",
    "    j = input(\"Enter job:\")\n",
    "    ag = int(input(\"Enter Age:\"))\n",
    "    Name.append(n)\n",
    "    Job.append(j)\n",
    "    Age.append(ag)\n",
    "print(\"Name list is\",Name)\n",
    "print(\"Job list is\",Job)\n",
    "print(\"Age list is\",Age)\n",
    "\n",
    "mapped = zip(Name,Job,Age)\n",
    "mapped = set(mapped)\n",
    "\n",
    "print(\"Zipped list is\",mapped)"
   ]
  },
  {
   "cell_type": "code",
   "execution_count": null,
   "metadata": {},
   "outputs": [],
   "source": [
    "#Question 5\n",
    "#Taking a sorted list. Write a program to find it's median."
   ]
  },
  {
   "cell_type": "code",
   "execution_count": 15,
   "metadata": {},
   "outputs": [
    {
     "name": "stdout",
     "output_type": "stream",
     "text": [
      "The original list : [1, 2, 3, 4, 5, 6]\n",
      "Median of list is : 3.5\n"
     ]
    }
   ],
   "source": [
    "import statistics\n",
    "  \n",
    "List = [1,2,3,4,5,6]\n",
    "print(\"The original list :\",List)\n",
    "  \n",
    "result = statistics.median(List)\n",
    "print(\"Median of list is :\",result)"
   ]
  },
  {
   "cell_type": "code",
   "execution_count": null,
   "metadata": {},
   "outputs": [],
   "source": [
    "#Question 6\n",
    "#Given a Python list. Turn every item of a list into its square."
   ]
  },
  {
   "cell_type": "code",
   "execution_count": 17,
   "metadata": {},
   "outputs": [
    {
     "name": "stdout",
     "output_type": "stream",
     "text": [
      "Squared list is [16, 25, 36, 49, 64]\n"
     ]
    }
   ],
   "source": [
    "P_list=[4,5,6,7,8]\n",
    "S_list=[]\n",
    "for i in P_list:\n",
    "    S_list.append(i*i)\n",
    "print(\"Squared list is\",S_list)"
   ]
  },
  {
   "cell_type": "code",
   "execution_count": null,
   "metadata": {},
   "outputs": [],
   "source": [
    "#Question 7\n",
    "#Given a Python list, find value 20 in the list, and if it is present, replace it with 200. Only \n",
    "#update the first occurrence of a value."
   ]
  },
  {
   "cell_type": "code",
   "execution_count": 24,
   "metadata": {},
   "outputs": [
    {
     "name": "stdout",
     "output_type": "stream",
     "text": [
      "After replacing: [10, 15, 200, 25, 20, 30]\n"
     ]
    }
   ],
   "source": [
    "P_list=[10,15,20,25,20,30]\n",
    "if 20 in P_list:\n",
    "    a = P_list.index(20)\n",
    "    P_list[a] = 200\n",
    "    print(\"After replacing:\",P_list)\n",
    "else:\n",
    "    print(\"Element not found\")"
   ]
  },
  {
   "cell_type": "code",
   "execution_count": null,
   "metadata": {},
   "outputs": [],
   "source": [
    "#Question 8\n",
    "#Python Program to Put Even and Odd elements in a List into Two Different Lists"
   ]
  },
  {
   "cell_type": "code",
   "execution_count": 2,
   "metadata": {},
   "outputs": [
    {
     "name": "stdout",
     "output_type": "stream",
     "text": [
      "Enter the no. of elements of list:5\n",
      "Enter the element to add in a list:1\n",
      "Enter the element to add in a list:2\n",
      "Enter the element to add in a list:3\n",
      "Enter the element to add in a list:4\n",
      "Enter the element to add in a list:5\n",
      "your list is [1, 2, 3, 4, 5]\n",
      "Even list is: [2, 4]\n",
      "Odd list is: [1, 3, 5]\n"
     ]
    }
   ],
   "source": [
    "l=[]\n",
    "n = int(input(\"Enter the no. of elements of list:\"))\n",
    "for i in range(n):\n",
    "    a = int(input(\"Enter the element to add in a list:\"))\n",
    "    l.append(a)\n",
    "print(\"your list is\",l)\n",
    "\n",
    "Evenlist=[]\n",
    "Oddlist=[]\n",
    "\n",
    "for i in l:\n",
    "    if(i%2 == 0):\n",
    "        Evenlist.append(i)\n",
    "    else:\n",
    "        Oddlist.append(i)\n",
    "        \n",
    "print(\"Even list is:\",Evenlist)\n",
    "print(\"Odd list is:\",Oddlist)"
   ]
  },
  {
   "cell_type": "code",
   "execution_count": null,
   "metadata": {},
   "outputs": [],
   "source": [
    "#Question 9\n",
    "# Python Program to Read a List of Words and Return the Length of the Longest One."
   ]
  },
  {
   "cell_type": "code",
   "execution_count": 3,
   "metadata": {},
   "outputs": [
    {
     "name": "stdout",
     "output_type": "stream",
     "text": [
      "Enter the no. of elements of list:5\n",
      "Enter the word to add in a list:grgrg\n",
      "Enter the word to add in a list:hrh\n",
      "Enter the word to add in a list:rg\n",
      "Enter the word to add in a list:gerh\n",
      "Enter the word to add in a list:hrdhbrgr\n",
      "List is ['grgrg', 'hrh', 'rg', 'gerh', 'hrdhbrgr']\n",
      "Word with longest length is: hrdhbrgr and length is 8\n"
     ]
    }
   ],
   "source": [
    "l=[]\n",
    "n = int(input(\"Enter the no. of elements of list:\"))\n",
    "for i in range(n):\n",
    "    n = input(\"Enter the word to add in a list:\")\n",
    "    l.append(n)\n",
    "print(\"List is\",l)\n",
    "\n",
    "long = len(l[0])\n",
    "a=l[0]\n",
    "for i in l:\n",
    "    if(len(i)>long):\n",
    "        long = len(i)\n",
    "        a=i\n",
    "        \n",
    "print(\"Word with longest length is:\",a,\"and length is\",long)"
   ]
  }
 ],
 "metadata": {
  "kernelspec": {
   "display_name": "Python 3",
   "language": "python",
   "name": "python3"
  },
  "language_info": {
   "codemirror_mode": {
    "name": "ipython",
    "version": 3
   },
   "file_extension": ".py",
   "mimetype": "text/x-python",
   "name": "python",
   "nbconvert_exporter": "python",
   "pygments_lexer": "ipython3",
   "version": "3.8.5"
  }
 },
 "nbformat": 4,
 "nbformat_minor": 4
}
